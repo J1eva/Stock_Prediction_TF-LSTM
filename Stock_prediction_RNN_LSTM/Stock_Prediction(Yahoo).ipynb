{
  "nbformat": 4,
  "nbformat_minor": 0,
  "metadata": {
    "colab": {
      "provenance": []
    },
    "kernelspec": {
      "name": "python3",
      "display_name": "Python 3"
    }
  },
  "cells": [
    {
      "cell_type": "markdown",
      "metadata": {
        "id": "XCZzva7tiWwL"
      },
      "source": [
        "# Stock Prediction Using Tensorflow (RNN/LSTM)\n",
        "\n",
        "> Indented block\n",
        "\n",
        "\n",
        "- We will get Yahoo online up-to-date stock data for time series data analysis.\n",
        "- The Tensorflow is configured to a specialied Reurrent Neural Network (RNN) called Long Short Term Memory (LSTM).\n",
        "- An RNN is a type of neural network well-suited to time series data.\n",
        "- RNNs process a time series step-by-step, maintaining an internal state summarizing the information they've seen so far.  "
      ]
    },
    {
      "cell_type": "code",
      "metadata": {
        "id": "6vX7-AybrlZ7",
        "colab": {
          "base_uri": "https://localhost:8080/"
        },
        "outputId": "41444039-230c-4236-896c-790765c94324"
      },
      "source": [
        "# Test if Google cloud is ready for running.\n",
        "print('Dan Lo')"
      ],
      "execution_count": null,
      "outputs": [
        {
          "output_type": "stream",
          "name": "stdout",
          "text": [
            "Dan Lo\n"
          ]
        }
      ]
    },
    {
      "cell_type": "code",
      "metadata": {
        "id": "3qD0-QdHiQ_0",
        "colab": {
          "base_uri": "https://localhost:8080/"
        },
        "outputId": "308dfb67-7630-46e8-b248-8187968b30aa"
      },
      "source": [
        "# The first time to run the program, you need to install yfinance module and\n",
        "# yahoo_earings_calendar by running the folloiwng command once.\n",
        "# After that, you can comment them out by prefixing a # sign.\n",
        "!pip install yfinance\n",
        "!pip install yahoo_earnings_calendar\n",
        "####\n",
        "#!pip uninstall yfinance\n",
        "#!pip uninstall pandas-datareader\n",
        "!pip install yfinance --upgrade --no-cache-dir\n",
        "!pip install pandas-datareader"
      ],
      "execution_count": null,
      "outputs": [
        {
          "output_type": "stream",
          "name": "stdout",
          "text": [
            "Requirement already satisfied: yfinance in /usr/local/lib/python3.10/dist-packages (0.2.28)\n",
            "Requirement already satisfied: pandas>=1.3.0 in /usr/local/lib/python3.10/dist-packages (from yfinance) (1.5.3)\n",
            "Requirement already satisfied: numpy>=1.16.5 in /usr/local/lib/python3.10/dist-packages (from yfinance) (1.23.5)\n",
            "Requirement already satisfied: requests>=2.31 in /usr/local/lib/python3.10/dist-packages (from yfinance) (2.31.0)\n",
            "Requirement already satisfied: multitasking>=0.0.7 in /usr/local/lib/python3.10/dist-packages (from yfinance) (0.0.11)\n",
            "Requirement already satisfied: lxml>=4.9.1 in /usr/local/lib/python3.10/dist-packages (from yfinance) (4.9.3)\n",
            "Requirement already satisfied: appdirs>=1.4.4 in /usr/local/lib/python3.10/dist-packages (from yfinance) (1.4.4)\n",
            "Requirement already satisfied: pytz>=2022.5 in /usr/local/lib/python3.10/dist-packages (from yfinance) (2023.3)\n",
            "Requirement already satisfied: frozendict>=2.3.4 in /usr/local/lib/python3.10/dist-packages (from yfinance) (2.3.8)\n",
            "Requirement already satisfied: beautifulsoup4>=4.11.1 in /usr/local/lib/python3.10/dist-packages (from yfinance) (4.11.2)\n",
            "Requirement already satisfied: html5lib>=1.1 in /usr/local/lib/python3.10/dist-packages (from yfinance) (1.1)\n",
            "Requirement already satisfied: soupsieve>1.2 in /usr/local/lib/python3.10/dist-packages (from beautifulsoup4>=4.11.1->yfinance) (2.4.1)\n",
            "Requirement already satisfied: six>=1.9 in /usr/local/lib/python3.10/dist-packages (from html5lib>=1.1->yfinance) (1.16.0)\n",
            "Requirement already satisfied: webencodings in /usr/local/lib/python3.10/dist-packages (from html5lib>=1.1->yfinance) (0.5.1)\n",
            "Requirement already satisfied: python-dateutil>=2.8.1 in /usr/local/lib/python3.10/dist-packages (from pandas>=1.3.0->yfinance) (2.8.2)\n",
            "Requirement already satisfied: charset-normalizer<4,>=2 in /usr/local/lib/python3.10/dist-packages (from requests>=2.31->yfinance) (3.2.0)\n",
            "Requirement already satisfied: idna<4,>=2.5 in /usr/local/lib/python3.10/dist-packages (from requests>=2.31->yfinance) (3.4)\n",
            "Requirement already satisfied: urllib3<3,>=1.21.1 in /usr/local/lib/python3.10/dist-packages (from requests>=2.31->yfinance) (2.0.4)\n",
            "Requirement already satisfied: certifi>=2017.4.17 in /usr/local/lib/python3.10/dist-packages (from requests>=2.31->yfinance) (2023.7.22)\n",
            "Requirement already satisfied: yahoo_earnings_calendar in /usr/local/lib/python3.10/dist-packages (0.6.0)\n",
            "Requirement already satisfied: requests in /usr/local/lib/python3.10/dist-packages (from yahoo_earnings_calendar) (2.31.0)\n",
            "Requirement already satisfied: charset-normalizer<4,>=2 in /usr/local/lib/python3.10/dist-packages (from requests->yahoo_earnings_calendar) (3.2.0)\n",
            "Requirement already satisfied: idna<4,>=2.5 in /usr/local/lib/python3.10/dist-packages (from requests->yahoo_earnings_calendar) (3.4)\n",
            "Requirement already satisfied: urllib3<3,>=1.21.1 in /usr/local/lib/python3.10/dist-packages (from requests->yahoo_earnings_calendar) (2.0.4)\n",
            "Requirement already satisfied: certifi>=2017.4.17 in /usr/local/lib/python3.10/dist-packages (from requests->yahoo_earnings_calendar) (2023.7.22)\n",
            "Requirement already satisfied: yfinance in /usr/local/lib/python3.10/dist-packages (0.2.28)\n",
            "Requirement already satisfied: pandas>=1.3.0 in /usr/local/lib/python3.10/dist-packages (from yfinance) (1.5.3)\n",
            "Requirement already satisfied: numpy>=1.16.5 in /usr/local/lib/python3.10/dist-packages (from yfinance) (1.23.5)\n",
            "Requirement already satisfied: requests>=2.31 in /usr/local/lib/python3.10/dist-packages (from yfinance) (2.31.0)\n",
            "Requirement already satisfied: multitasking>=0.0.7 in /usr/local/lib/python3.10/dist-packages (from yfinance) (0.0.11)\n",
            "Requirement already satisfied: lxml>=4.9.1 in /usr/local/lib/python3.10/dist-packages (from yfinance) (4.9.3)\n",
            "Requirement already satisfied: appdirs>=1.4.4 in /usr/local/lib/python3.10/dist-packages (from yfinance) (1.4.4)\n",
            "Requirement already satisfied: pytz>=2022.5 in /usr/local/lib/python3.10/dist-packages (from yfinance) (2023.3)\n",
            "Requirement already satisfied: frozendict>=2.3.4 in /usr/local/lib/python3.10/dist-packages (from yfinance) (2.3.8)\n",
            "Requirement already satisfied: beautifulsoup4>=4.11.1 in /usr/local/lib/python3.10/dist-packages (from yfinance) (4.11.2)\n",
            "Requirement already satisfied: html5lib>=1.1 in /usr/local/lib/python3.10/dist-packages (from yfinance) (1.1)\n",
            "Requirement already satisfied: soupsieve>1.2 in /usr/local/lib/python3.10/dist-packages (from beautifulsoup4>=4.11.1->yfinance) (2.4.1)\n",
            "Requirement already satisfied: six>=1.9 in /usr/local/lib/python3.10/dist-packages (from html5lib>=1.1->yfinance) (1.16.0)\n",
            "Requirement already satisfied: webencodings in /usr/local/lib/python3.10/dist-packages (from html5lib>=1.1->yfinance) (0.5.1)\n",
            "Requirement already satisfied: python-dateutil>=2.8.1 in /usr/local/lib/python3.10/dist-packages (from pandas>=1.3.0->yfinance) (2.8.2)\n",
            "Requirement already satisfied: charset-normalizer<4,>=2 in /usr/local/lib/python3.10/dist-packages (from requests>=2.31->yfinance) (3.2.0)\n",
            "Requirement already satisfied: idna<4,>=2.5 in /usr/local/lib/python3.10/dist-packages (from requests>=2.31->yfinance) (3.4)\n",
            "Requirement already satisfied: urllib3<3,>=1.21.1 in /usr/local/lib/python3.10/dist-packages (from requests>=2.31->yfinance) (2.0.4)\n",
            "Requirement already satisfied: certifi>=2017.4.17 in /usr/local/lib/python3.10/dist-packages (from requests>=2.31->yfinance) (2023.7.22)\n",
            "Requirement already satisfied: pandas-datareader in /usr/local/lib/python3.10/dist-packages (0.10.0)\n",
            "Requirement already satisfied: lxml in /usr/local/lib/python3.10/dist-packages (from pandas-datareader) (4.9.3)\n",
            "Requirement already satisfied: pandas>=0.23 in /usr/local/lib/python3.10/dist-packages (from pandas-datareader) (1.5.3)\n",
            "Requirement already satisfied: requests>=2.19.0 in /usr/local/lib/python3.10/dist-packages (from pandas-datareader) (2.31.0)\n",
            "Requirement already satisfied: python-dateutil>=2.8.1 in /usr/local/lib/python3.10/dist-packages (from pandas>=0.23->pandas-datareader) (2.8.2)\n",
            "Requirement already satisfied: pytz>=2020.1 in /usr/local/lib/python3.10/dist-packages (from pandas>=0.23->pandas-datareader) (2023.3)\n",
            "Requirement already satisfied: numpy>=1.21.0 in /usr/local/lib/python3.10/dist-packages (from pandas>=0.23->pandas-datareader) (1.23.5)\n",
            "Requirement already satisfied: charset-normalizer<4,>=2 in /usr/local/lib/python3.10/dist-packages (from requests>=2.19.0->pandas-datareader) (3.2.0)\n",
            "Requirement already satisfied: idna<4,>=2.5 in /usr/local/lib/python3.10/dist-packages (from requests>=2.19.0->pandas-datareader) (3.4)\n",
            "Requirement already satisfied: urllib3<3,>=1.21.1 in /usr/local/lib/python3.10/dist-packages (from requests>=2.19.0->pandas-datareader) (2.0.4)\n",
            "Requirement already satisfied: certifi>=2017.4.17 in /usr/local/lib/python3.10/dist-packages (from requests>=2.19.0->pandas-datareader) (2023.7.22)\n",
            "Requirement already satisfied: six>=1.5 in /usr/local/lib/python3.10/dist-packages (from python-dateutil>=2.8.1->pandas>=0.23->pandas-datareader) (1.16.0)\n"
          ]
        }
      ]
    },
    {
      "cell_type": "code",
      "metadata": {
        "id": "IMal7IRnnnJC"
      },
      "source": [
        "# Import required library modules\n",
        "import yfinance as yf\n",
        "from yahoo_earnings_calendar import YahooEarningsCalendar\n",
        "import pandas as pd\n",
        "import numpy as np"
      ],
      "execution_count": null,
      "outputs": []
    },
    {
      "cell_type": "code",
      "metadata": {
        "id": "3rQoGmJaFDDP",
        "colab": {
          "base_uri": "https://localhost:8080/"
        },
        "outputId": "8c9a14b8-d6bd-4c23-c43d-2bbd1cbbc897"
      },
      "source": [
        "# Try to get tickers from earnings report\n",
        "# You may enter your prefered stock ticker manually.\n",
        "yec= YahooEarningsCalendar()\n",
        "print(yec)\n"
      ],
      "execution_count": null,
      "outputs": [
        {
          "output_type": "stream",
          "name": "stdout",
          "text": [
            "<yahoo_earnings_calendar.scraper.YahooEarningsCalendar object at 0x7afe87de25f0>\n"
          ]
        }
      ]
    },
    {
      "cell_type": "code",
      "metadata": {
        "id": "TbXy7gxmFFQc",
        "colab": {
          "base_uri": "https://localhost:8080/",
          "height": 391
        },
        "outputId": "4c33af69-1d2b-4f2e-faa3-8073c473cab9"
      },
      "source": [
        "from datetime import datetime\n",
        "## note that Yahoo finance stopped working and we need a workaround, 8/21/2023\n",
        "## If you run into the \"list index out of range\" error, skip to the following two blocks and manually enter the ticker symbol to get the data.\n",
        "day1 = datetime.strptime('08/18/2023', '%m/%d/%Y')\n",
        "#yec.get_earnings_of(\"JBL\")\n",
        "er = yec.earnings_on(day1)\n",
        "#earnings = pd.read_html('https://finance.yahoo.com/quote/')[0]\n",
        "#print(earnings)\n"
      ],
      "execution_count": null,
      "outputs": [
        {
          "output_type": "error",
          "ename": "IndexError",
          "evalue": "ignored",
          "traceback": [
            "\u001b[0;31m---------------------------------------------------------------------------\u001b[0m",
            "\u001b[0;31mIndexError\u001b[0m                                Traceback (most recent call last)",
            "\u001b[0;32m<ipython-input-34-039106ec404a>\u001b[0m in \u001b[0;36m<cell line: 6>\u001b[0;34m()\u001b[0m\n\u001b[1;32m      4\u001b[0m \u001b[0mday1\u001b[0m \u001b[0;34m=\u001b[0m \u001b[0mdatetime\u001b[0m\u001b[0;34m.\u001b[0m\u001b[0mstrptime\u001b[0m\u001b[0;34m(\u001b[0m\u001b[0;34m'08/18/2023'\u001b[0m\u001b[0;34m,\u001b[0m \u001b[0;34m'%m/%d/%Y'\u001b[0m\u001b[0;34m)\u001b[0m\u001b[0;34m\u001b[0m\u001b[0;34m\u001b[0m\u001b[0m\n\u001b[1;32m      5\u001b[0m \u001b[0;31m#yec.get_earnings_of(\"JBL\")\u001b[0m\u001b[0;34m\u001b[0m\u001b[0;34m\u001b[0m\u001b[0m\n\u001b[0;32m----> 6\u001b[0;31m \u001b[0mer\u001b[0m \u001b[0;34m=\u001b[0m \u001b[0myec\u001b[0m\u001b[0;34m.\u001b[0m\u001b[0mearnings_on\u001b[0m\u001b[0;34m(\u001b[0m\u001b[0mday1\u001b[0m\u001b[0;34m)\u001b[0m\u001b[0;34m\u001b[0m\u001b[0;34m\u001b[0m\u001b[0m\n\u001b[0m\u001b[1;32m      7\u001b[0m \u001b[0;31m#earnings = pd.read_html('https://finance.yahoo.com/quote/')[0]\u001b[0m\u001b[0;34m\u001b[0m\u001b[0;34m\u001b[0m\u001b[0m\n\u001b[1;32m      8\u001b[0m \u001b[0;31m#print(earnings)\u001b[0m\u001b[0;34m\u001b[0m\u001b[0;34m\u001b[0m\u001b[0m\n",
            "\u001b[0;32m/usr/local/lib/python3.10/dist-packages/yahoo_earnings_calendar/scraper.py\u001b[0m in \u001b[0;36mearnings_on\u001b[0;34m(self, date, offset, count)\u001b[0m\n\u001b[1;32m     91\u001b[0m         dated_url = '{0}?day={1}&offset={2}&size={3}'.format(\n\u001b[1;32m     92\u001b[0m             BASE_URL, date_str, offset, OFFSET_STEP)\n\u001b[0;32m---> 93\u001b[0;31m         \u001b[0mpage_data_dict\u001b[0m \u001b[0;34m=\u001b[0m \u001b[0mself\u001b[0m\u001b[0;34m.\u001b[0m\u001b[0m_get_data_dict\u001b[0m\u001b[0;34m(\u001b[0m\u001b[0mdated_url\u001b[0m\u001b[0;34m)\u001b[0m\u001b[0;34m\u001b[0m\u001b[0;34m\u001b[0m\u001b[0m\n\u001b[0m\u001b[1;32m     94\u001b[0m         \u001b[0mstores_dict\u001b[0m \u001b[0;34m=\u001b[0m \u001b[0mpage_data_dict\u001b[0m\u001b[0;34m[\u001b[0m\u001b[0;34m'context'\u001b[0m\u001b[0;34m]\u001b[0m\u001b[0;34m[\u001b[0m\u001b[0;34m'dispatcher'\u001b[0m\u001b[0;34m]\u001b[0m\u001b[0;34m[\u001b[0m\u001b[0;34m'stores'\u001b[0m\u001b[0;34m]\u001b[0m\u001b[0;34m\u001b[0m\u001b[0;34m\u001b[0m\u001b[0m\n\u001b[1;32m     95\u001b[0m         \u001b[0mearnings_count\u001b[0m \u001b[0;34m=\u001b[0m \u001b[0mstores_dict\u001b[0m\u001b[0;34m[\u001b[0m\u001b[0;34m'ScreenerCriteriaStore'\u001b[0m\u001b[0;34m]\u001b[0m\u001b[0;34m[\u001b[0m\u001b[0;34m'meta'\u001b[0m\u001b[0;34m]\u001b[0m\u001b[0;34m[\u001b[0m\u001b[0;34m'total'\u001b[0m\u001b[0;34m]\u001b[0m\u001b[0;34m\u001b[0m\u001b[0;34m\u001b[0m\u001b[0m\n",
            "\u001b[0;32m/usr/local/lib/python3.10/dist-packages/yahoo_earnings_calendar/scraper.py\u001b[0m in \u001b[0;36m_get_data_dict\u001b[0;34m(self, url)\u001b[0m\n\u001b[1;32m     36\u001b[0m         \u001b[0mpage\u001b[0m \u001b[0;34m=\u001b[0m \u001b[0mrequests\u001b[0m\u001b[0;34m.\u001b[0m\u001b[0mget\u001b[0m\u001b[0;34m(\u001b[0m\u001b[0murl\u001b[0m\u001b[0;34m)\u001b[0m\u001b[0;34m\u001b[0m\u001b[0;34m\u001b[0m\u001b[0m\n\u001b[1;32m     37\u001b[0m         \u001b[0mpage_content\u001b[0m \u001b[0;34m=\u001b[0m \u001b[0mpage\u001b[0m\u001b[0;34m.\u001b[0m\u001b[0mcontent\u001b[0m\u001b[0;34m.\u001b[0m\u001b[0mdecode\u001b[0m\u001b[0;34m(\u001b[0m\u001b[0mencoding\u001b[0m\u001b[0;34m=\u001b[0m\u001b[0;34m'utf-8'\u001b[0m\u001b[0;34m,\u001b[0m \u001b[0merrors\u001b[0m\u001b[0;34m=\u001b[0m\u001b[0;34m'strict'\u001b[0m\u001b[0;34m)\u001b[0m\u001b[0;34m\u001b[0m\u001b[0;34m\u001b[0m\u001b[0m\n\u001b[0;32m---> 38\u001b[0;31m         page_data_string = [row for row in page_content.split(\n\u001b[0m\u001b[1;32m     39\u001b[0m             '\\n') if row.startswith('root.App.main = ')][0][:-1]\n\u001b[1;32m     40\u001b[0m         \u001b[0mpage_data_string\u001b[0m \u001b[0;34m=\u001b[0m \u001b[0mpage_data_string\u001b[0m\u001b[0;34m.\u001b[0m\u001b[0msplit\u001b[0m\u001b[0;34m(\u001b[0m\u001b[0;34m'root.App.main = '\u001b[0m\u001b[0;34m,\u001b[0m \u001b[0;36m1\u001b[0m\u001b[0;34m)\u001b[0m\u001b[0;34m[\u001b[0m\u001b[0;36m1\u001b[0m\u001b[0;34m]\u001b[0m\u001b[0;34m\u001b[0m\u001b[0;34m\u001b[0m\u001b[0m\n",
            "\u001b[0;31mIndexError\u001b[0m: list index out of range"
          ]
        }
      ]
    },
    {
      "cell_type": "code",
      "metadata": {
        "id": "DeACWBZ_Vq6V",
        "colab": {
          "base_uri": "https://localhost:8080/",
          "height": 245
        },
        "outputId": "cdb6629b-728d-46f2-fc86-b8ef8cae644a"
      },
      "source": [
        "# Use this dropdown widget to select a ticker for retrieving the stock data.\n",
        "from ipywidgets import Dropdown\n",
        "option_list =[]\n",
        "for i in range(len(er)):\n",
        "  option_list.append([er[i]['companyshortname']+'-'+er[i]['ticker'], er[i]['ticker']])\n",
        "dropdown = Dropdown(description = 'Select one company', options = option_list)\n",
        "display(dropdown)\n",
        "ticker = dropdown.value"
      ],
      "execution_count": null,
      "outputs": [
        {
          "output_type": "error",
          "ename": "NameError",
          "evalue": "ignored",
          "traceback": [
            "\u001b[0;31m---------------------------------------------------------------------------\u001b[0m",
            "\u001b[0;31mNameError\u001b[0m                                 Traceback (most recent call last)",
            "\u001b[0;32m<ipython-input-17-b4632dc561a6>\u001b[0m in \u001b[0;36m<cell line: 4>\u001b[0;34m()\u001b[0m\n\u001b[1;32m      2\u001b[0m \u001b[0;32mfrom\u001b[0m \u001b[0mipywidgets\u001b[0m \u001b[0;32mimport\u001b[0m \u001b[0mDropdown\u001b[0m\u001b[0;34m\u001b[0m\u001b[0;34m\u001b[0m\u001b[0m\n\u001b[1;32m      3\u001b[0m \u001b[0moption_list\u001b[0m \u001b[0;34m=\u001b[0m\u001b[0;34m[\u001b[0m\u001b[0;34m]\u001b[0m\u001b[0;34m\u001b[0m\u001b[0;34m\u001b[0m\u001b[0m\n\u001b[0;32m----> 4\u001b[0;31m \u001b[0;32mfor\u001b[0m \u001b[0mi\u001b[0m \u001b[0;32min\u001b[0m \u001b[0mrange\u001b[0m\u001b[0;34m(\u001b[0m\u001b[0mlen\u001b[0m\u001b[0;34m(\u001b[0m\u001b[0mer\u001b[0m\u001b[0;34m)\u001b[0m\u001b[0;34m)\u001b[0m\u001b[0;34m:\u001b[0m\u001b[0;34m\u001b[0m\u001b[0;34m\u001b[0m\u001b[0m\n\u001b[0m\u001b[1;32m      5\u001b[0m   \u001b[0moption_list\u001b[0m\u001b[0;34m.\u001b[0m\u001b[0mappend\u001b[0m\u001b[0;34m(\u001b[0m\u001b[0;34m[\u001b[0m\u001b[0mer\u001b[0m\u001b[0;34m[\u001b[0m\u001b[0mi\u001b[0m\u001b[0;34m]\u001b[0m\u001b[0;34m[\u001b[0m\u001b[0;34m'companyshortname'\u001b[0m\u001b[0;34m]\u001b[0m\u001b[0;34m+\u001b[0m\u001b[0;34m'-'\u001b[0m\u001b[0;34m+\u001b[0m\u001b[0mer\u001b[0m\u001b[0;34m[\u001b[0m\u001b[0mi\u001b[0m\u001b[0;34m]\u001b[0m\u001b[0;34m[\u001b[0m\u001b[0;34m'ticker'\u001b[0m\u001b[0;34m]\u001b[0m\u001b[0;34m,\u001b[0m \u001b[0mer\u001b[0m\u001b[0;34m[\u001b[0m\u001b[0mi\u001b[0m\u001b[0;34m]\u001b[0m\u001b[0;34m[\u001b[0m\u001b[0;34m'ticker'\u001b[0m\u001b[0;34m]\u001b[0m\u001b[0;34m]\u001b[0m\u001b[0;34m)\u001b[0m\u001b[0;34m\u001b[0m\u001b[0;34m\u001b[0m\u001b[0m\n\u001b[1;32m      6\u001b[0m \u001b[0mdropdown\u001b[0m \u001b[0;34m=\u001b[0m \u001b[0mDropdown\u001b[0m\u001b[0;34m(\u001b[0m\u001b[0mdescription\u001b[0m \u001b[0;34m=\u001b[0m \u001b[0;34m'Select one company'\u001b[0m\u001b[0;34m,\u001b[0m \u001b[0moptions\u001b[0m \u001b[0;34m=\u001b[0m \u001b[0moption_list\u001b[0m\u001b[0;34m)\u001b[0m\u001b[0;34m\u001b[0m\u001b[0;34m\u001b[0m\u001b[0m\n",
            "\u001b[0;31mNameError\u001b[0m: name 'er' is not defined"
          ]
        }
      ]
    },
    {
      "cell_type": "code",
      "metadata": {
        "id": "wVdoGhx7d4KB",
        "colab": {
          "base_uri": "https://localhost:8080/"
        },
        "outputId": "277efe03-10e7-4686-c941-1b5539efe4c6"
      },
      "source": [
        "# Get the stock data from Yahoo finance.\n",
        "# If your stock sticker is not found in the dropdown menu, just enter it here to replace 'ticker' variable.\n",
        "#\n",
        "ticker = \"BABA\"\n",
        "data = yf.download(ticker,'2019-01-01','2023-08-28')"
      ],
      "execution_count": null,
      "outputs": [
        {
          "output_type": "stream",
          "name": "stdout",
          "text": [
            "\r[*********************100%%**********************]  1 of 1 completed\n"
          ]
        }
      ]
    },
    {
      "cell_type": "code",
      "metadata": {
        "id": "V4q_njRtwoe3",
        "colab": {
          "base_uri": "https://localhost:8080/"
        },
        "outputId": "31888542-f6f1-4a4b-8309-eaf085a8577f"
      },
      "source": [
        "# Take a look at the data\n",
        "data.head"
      ],
      "execution_count": null,
      "outputs": [
        {
          "output_type": "execute_result",
          "data": {
            "text/plain": [
              "<bound method NDFrame.head of                   Open        High         Low       Close   Adj Close  \\\n",
              "Date                                                                     \n",
              "2019-01-02  134.130005  137.748993  133.029999  136.699997  136.699997   \n",
              "2019-01-03  134.270004  134.869995  129.830002  130.600006  130.600006   \n",
              "2019-01-04  134.259995  141.080002  133.660004  139.750000  139.750000   \n",
              "2019-01-07  140.550003  144.080002  139.009995  143.100006  143.100006   \n",
              "2019-01-08  145.000000  147.550003  142.059998  146.789993  146.789993   \n",
              "...                ...         ...         ...         ...         ...   \n",
              "2023-08-21   87.599998   88.820000   87.220001   88.570000   88.570000   \n",
              "2023-08-22   89.279999   89.489998   87.860001   88.080002   88.080002   \n",
              "2023-08-23   88.370003   90.589996   88.309998   89.839996   89.839996   \n",
              "2023-08-24   90.489998   90.919998   89.040001   89.110001   89.110001   \n",
              "2023-08-25   89.250000   90.040001   88.269997   89.820000   89.820000   \n",
              "\n",
              "              Volume  \n",
              "Date                  \n",
              "2019-01-02  16708400  \n",
              "2019-01-03  19531300  \n",
              "2019-01-04  22845400  \n",
              "2019-01-07  17239000  \n",
              "2019-01-08  16487600  \n",
              "...              ...  \n",
              "2023-08-21  14167300  \n",
              "2023-08-22  11611600  \n",
              "2023-08-23  12185700  \n",
              "2023-08-24  10684500  \n",
              "2023-08-25  11374500  \n",
              "\n",
              "[1171 rows x 6 columns]>"
            ]
          },
          "metadata": {},
          "execution_count": 43
        }
      ]
    },
    {
      "cell_type": "code",
      "metadata": {
        "id": "v-RiC3R8RJ5L",
        "colab": {
          "base_uri": "https://localhost:8080/"
        },
        "outputId": "bf3134f8-3ac5-4ef4-e2f0-c4eec1d9d0d1"
      },
      "source": [
        "# Check the column headings\n",
        "# We will use Adj Close for our training data.\n",
        "data.columns"
      ],
      "execution_count": null,
      "outputs": [
        {
          "output_type": "execute_result",
          "data": {
            "text/plain": [
              "Index(['Open', 'High', 'Low', 'Close', 'Adj Close', 'Volume'], dtype='object')"
            ]
          },
          "metadata": {},
          "execution_count": 44
        }
      ]
    },
    {
      "cell_type": "code",
      "metadata": {
        "id": "LAxfqMZ5T1Y_",
        "colab": {
          "base_uri": "https://localhost:8080/",
          "height": 439
        },
        "outputId": "27e0b2bc-d023-4c63-cb10-03c71366054b"
      },
      "source": [
        "# Slice out the Adj Close column for our study.\n",
        "# Take a look at the data.\n",
        "y = data['Adj Close']\n",
        "y.index=data.index\n",
        "y.plot()"
      ],
      "execution_count": null,
      "outputs": [
        {
          "output_type": "execute_result",
          "data": {
            "text/plain": [
              "<Axes: xlabel='Date'>"
            ]
          },
          "metadata": {},
          "execution_count": 45
        },
        {
          "output_type": "display_data",
          "data": {
            "text/plain": [
              "<Figure size 640x480 with 1 Axes>"
            ],
            "image/png": "[encoded data removed]"
          },
          "metadata": {}
        }
      ]
    },
    {
      "cell_type": "code",
      "metadata": {
        "id": "E6O0dC9J2hSz"
      },
      "source": [
        "# Convert Pandas series to numpy ndarray for further processing.\n",
        "y = y.values"
      ],
      "execution_count": null,
      "outputs": []
    },
    {
      "cell_type": "code",
      "metadata": {
        "id": "weCcmlry2rGh",
        "colab": {
          "base_uri": "https://localhost:8080/"
        },
        "outputId": "83dfda4e-8d44-4f1d-f0b9-43b1dd5ecdfb"
      },
      "source": [
        "# Split data into trainning and testing using 80/20 ratio.\n",
        "training_size = int(y.size * 0.8)\n",
        "print(training_size)"
      ],
      "execution_count": null,
      "outputs": [
        {
          "output_type": "stream",
          "name": "stdout",
          "text": [
            "936\n"
          ]
        }
      ]
    },
    {
      "cell_type": "code",
      "metadata": {
        "id": "Ydnae1zQ2Q4o"
      },
      "source": [
        "# Data normalization using training data's mean and standard deviation.\n",
        "# y is a ndarray now and its dimension is 1.\n",
        "training_mean = y[:training_size].mean()\n",
        "training_std = y[:training_size].std()\n",
        "# standarize the data\n",
        "y = (y-training_mean)/training_std"
      ],
      "execution_count": null,
      "outputs": []
    },
    {
      "cell_type": "code",
      "metadata": {
        "id": "tkg7AcbC4DY5",
        "colab": {
          "base_uri": "https://localhost:8080/"
        },
        "outputId": "5778d836-ebbd-4ec2-d1e1-d7ee173e6785"
      },
      "source": [
        "# Take a look at the training data\n",
        "y[0:5]"
      ],
      "execution_count": null,
      "outputs": [
        {
          "output_type": "execute_result",
          "data": {
            "text/plain": [
              "array([-0.8763068 , -0.98646558, -0.82122727, -0.76073004, -0.69409314])"
            ]
          },
          "metadata": {},
          "execution_count": 49
        }
      ]
    },
    {
      "cell_type": "code",
      "metadata": {
        "id": "nZz_bFai5Xr7"
      },
      "source": [
        "# Define a function to prepare data.\n",
        "# The time series data are reorganized to form feature vectors and target values.\n",
        "# For example, let sHistory be 10. A datapoint as a target will have 10 immediately\n",
        "# previous 10 values in the time series for its feature vector.\n",
        "def data_preprocess(dataset, iStart, iEnd, sHistory):\n",
        "  data = []\n",
        "  target = []\n",
        "  # begin with sHistory to have historical data\n",
        "  iStart += sHistory\n",
        "  if iEnd is None:\n",
        "    iEnd = len(dataset)\n",
        "  for i in range(iStart, iEnd):\n",
        "    indices = range(i-sHistory, i)\n",
        "    data.append(np.reshape(dataset[indices], (sHistory, 1)))\n",
        "    target.append(dataset[i])\n",
        "  return np.array(data), np.array(target)"
      ],
      "execution_count": null,
      "outputs": []
    },
    {
      "cell_type": "code",
      "metadata": {
        "id": "aDKHe9sC4uq2"
      },
      "source": [
        "# Let's define number of history data for training and split data into training nd testing datasets.\n",
        "past_history = 10\n",
        "xtrain, ytrain = data_preprocess(y, 0, training_size, past_history)\n",
        "xtest, ytest = data_preprocess(y, training_size, None, past_history)"
      ],
      "execution_count": null,
      "outputs": []
    },
    {
      "cell_type": "code",
      "metadata": {
        "id": "b8xycSYB_P85",
        "colab": {
          "base_uri": "https://localhost:8080/",
          "height": 193
        },
        "outputId": "340e3c83-9a9a-4104-e7a5-73a9bf5f2ab9"
      },
      "source": [
        "# Take a look at data.\n",
        "xtest[0]"
      ],
      "execution_count": null,
      "outputs": [
        {
          "output_type": "execute_result",
          "data": {
            "text/plain": [
              "array([[2.33394009],\n",
              "       [2.12829397],\n",
              "       [2.09028868],\n",
              "       [2.13662414],\n",
              "       [2.22096489],\n",
              "       [2.00750894],\n",
              "       [1.7237693 ],\n",
              "       [1.38900877],\n",
              "       [1.36037432],\n",
              "       [1.52332973]])"
            ]
          },
          "metadata": {
            "tags": []
          },
          "execution_count": 324
        }
      ]
    },
    {
      "cell_type": "code",
      "metadata": {
        "id": "_tWsJx-s_byZ",
        "colab": {
          "base_uri": "https://localhost:8080/",
          "height": 193
        },
        "outputId": "08a656b6-a505-4831-b43f-dbc6506fe921"
      },
      "source": [
        "# Take a look at data.\n",
        "xtest[1]"
      ],
      "execution_count": null,
      "outputs": [
        {
          "output_type": "execute_result",
          "data": {
            "text/plain": [
              "array([[2.12829397],\n",
              "       [2.09028868],\n",
              "       [2.13662414],\n",
              "       [2.22096489],\n",
              "       [2.00750894],\n",
              "       [1.7237693 ],\n",
              "       [1.38900877],\n",
              "       [1.36037432],\n",
              "       [1.52332973],\n",
              "       [1.33017806]])"
            ]
          },
          "metadata": {
            "tags": []
          },
          "execution_count": 325
        }
      ]
    },
    {
      "cell_type": "code",
      "metadata": {
        "id": "9G5e-I-i8Ib_"
      },
      "source": [
        "# It's time to get Tensorflow library in and create an LSTM model.\n",
        "import tensorflow as tf\n",
        "# Setting seed to ensure reproducibility.\n",
        "tf.random.set_seed(8888)\n",
        "model = tf.keras.models.Sequential([\n",
        "  tf.keras.layers.LSTM(8, input_shape=xtrain.shape[-2:]),\n",
        "  tf.keras.layers.Dense(1)\n",
        "])"
      ],
      "execution_count": null,
      "outputs": []
    },
    {
      "cell_type": "code",
      "metadata": {
        "id": "-COMa7fb8MIQ",
        "colab": {
          "base_uri": "https://localhost:8080/",
          "height": 228
        },
        "outputId": "b4942210-396c-4cf3-f2d6-cdca74f1bf62"
      },
      "source": [
        "# Take a look at the model you have just created.\n",
        "model.summary()"
      ],
      "execution_count": null,
      "outputs": [
        {
          "output_type": "stream",
          "text": [
            "Model: \"sequential_4\"\n",
            "_________________________________________________________________\n",
            "Layer (type)                 Output Shape              Param #   \n",
            "=================================================================\n",
            "lstm_4 (LSTM)                (None, 8)                 320       \n",
            "_________________________________________________________________\n",
            "dense_4 (Dense)              (None, 1)                 9         \n",
            "=================================================================\n",
            "Total params: 329\n",
            "Trainable params: 329\n",
            "Non-trainable params: 0\n",
            "_________________________________________________________________\n"
          ],
          "name": "stdout"
        }
      ]
    },
    {
      "cell_type": "code",
      "metadata": {
        "id": "Wimqcyff8PqA"
      },
      "source": [
        "# Before taining, you need to configure the model for training.\n",
        "model.compile(optimizer='Adam',\n",
        "              loss='mse')"
      ],
      "execution_count": null,
      "outputs": []
    },
    {
      "cell_type": "code",
      "metadata": {
        "id": "UwvhnusFCykX"
      },
      "source": [
        "BATCH_SIZE = 16\n",
        "BUFFER_SIZE = 10000\n",
        "\n",
        "p_train = tf.data.Dataset.from_tensor_slices((xtrain, ytrain))\n",
        "p_train = p_train.cache().shuffle(BUFFER_SIZE).batch(BATCH_SIZE).repeat()\n",
        "\n",
        "p_test = tf.data.Dataset.from_tensor_slices((xtest, ytest))\n",
        "p_test = p_test.batch(BATCH_SIZE).repeat()"
      ],
      "execution_count": null,
      "outputs": []
    },
    {
      "cell_type": "code",
      "metadata": {
        "id": "qbO1cJEl8UnH",
        "colab": {
          "base_uri": "https://localhost:8080/",
          "height": 369
        },
        "outputId": "35298738-702e-4a3a-d686-349a5b58f3e3"
      },
      "source": [
        "# For your model to be able to predict something, your need to train your model using training data.\n",
        "history = model.fit(p_train, epochs = 10, steps_per_epoch=200, validation_data=p_test, validation_steps=50)"
      ],
      "execution_count": null,
      "outputs": [
        {
          "output_type": "stream",
          "text": [
            "Epoch 1/10\n",
            "200/200 [==============================] - 1s 7ms/step - loss: 0.2225 - val_loss: 0.2510\n",
            "Epoch 2/10\n",
            "200/200 [==============================] - 1s 5ms/step - loss: 0.0686 - val_loss: 0.1806\n",
            "Epoch 3/10\n",
            "200/200 [==============================] - 1s 5ms/step - loss: 0.0513 - val_loss: 0.1771\n",
            "Epoch 4/10\n",
            "200/200 [==============================] - 1s 5ms/step - loss: 0.0469 - val_loss: 0.1630\n",
            "Epoch 5/10\n",
            "200/200 [==============================] - 1s 5ms/step - loss: 0.0442 - val_loss: 0.1526\n",
            "Epoch 6/10\n",
            "200/200 [==============================] - 1s 5ms/step - loss: 0.0419 - val_loss: 0.1418\n",
            "Epoch 7/10\n",
            "200/200 [==============================] - 1s 5ms/step - loss: 0.0390 - val_loss: 0.1326\n",
            "Epoch 8/10\n",
            "200/200 [==============================] - 1s 5ms/step - loss: 0.0375 - val_loss: 0.1323\n",
            "Epoch 9/10\n",
            "200/200 [==============================] - 1s 5ms/step - loss: 0.0351 - val_loss: 0.1226\n",
            "Epoch 10/10\n",
            "200/200 [==============================] - 1s 5ms/step - loss: 0.0334 - val_loss: 0.1179\n"
          ],
          "name": "stdout"
        }
      ]
    },
    {
      "cell_type": "code",
      "metadata": {
        "id": "CVxfwUO28Y4D",
        "colab": {
          "base_uri": "https://localhost:8080/",
          "height": 203
        },
        "outputId": "297f2504-54ce-44ae-f739-680ea8f4bf1e"
      },
      "source": [
        "# Convert training history to datafram for viewing and graphing.\n",
        "hist = pd.DataFrame(history.history)\n",
        "hist.head()"
      ],
      "execution_count": null,
      "outputs": [
        {
          "output_type": "execute_result",
          "data": {
            "text/html": [
              "<div>\n",
              "<style scoped>\n",
              "    .dataframe tbody tr th:only-of-type {\n",
              "        vertical-align: middle;\n",
              "    }\n",
              "\n",
              "    .dataframe tbody tr th {\n",
              "        vertical-align: top;\n",
              "    }\n",
              "\n",
              "    .dataframe thead th {\n",
              "        text-align: right;\n",
              "    }\n",
              "</style>\n",
              "<table border=\"1\" class=\"dataframe\">\n",
              "  <thead>\n",
              "    <tr style=\"text-align: right;\">\n",
              "      <th></th>\n",
              "      <th>loss</th>\n",
              "      <th>val_loss</th>\n",
              "    </tr>\n",
              "  </thead>\n",
              "  <tbody>\n",
              "    <tr>\n",
              "      <th>0</th>\n",
              "      <td>0.222535</td>\n",
              "      <td>0.251041</td>\n",
              "    </tr>\n",
              "    <tr>\n",
              "      <th>1</th>\n",
              "      <td>0.068625</td>\n",
              "      <td>0.180593</td>\n",
              "    </tr>\n",
              "    <tr>\n",
              "      <th>2</th>\n",
              "      <td>0.051262</td>\n",
              "      <td>0.177073</td>\n",
              "    </tr>\n",
              "    <tr>\n",
              "      <th>3</th>\n",
              "      <td>0.046934</td>\n",
              "      <td>0.163023</td>\n",
              "    </tr>\n",
              "    <tr>\n",
              "      <th>4</th>\n",
              "      <td>0.044240</td>\n",
              "      <td>0.152586</td>\n",
              "    </tr>\n",
              "  </tbody>\n",
              "</table>\n",
              "</div>"
            ],
            "text/plain": [
              "       loss  val_loss\n",
              "0  0.222535  0.251041\n",
              "1  0.068625  0.180593\n",
              "2  0.051262  0.177073\n",
              "3  0.046934  0.163023\n",
              "4  0.044240  0.152586"
            ]
          },
          "metadata": {
            "tags": []
          },
          "execution_count": 331
        }
      ]
    },
    {
      "cell_type": "code",
      "metadata": {
        "id": "oKJqts6j8ex1",
        "colab": {
          "base_uri": "https://localhost:8080/",
          "height": 283
        },
        "outputId": "04cacf98-f345-4684-9a81-bf922183d376"
      },
      "source": [
        "# Training errors with respect to ecochs.\n",
        "# loss: values of the cost function for training data.\n",
        "# val_loss: values of the cost function for cross-validation data.\n",
        "hist.plot()"
      ],
      "execution_count": null,
      "outputs": [
        {
          "output_type": "execute_result",
          "data": {
            "text/plain": [
              "<matplotlib.axes._subplots.AxesSubplot at 0x7f3817693080>"
            ]
          },
          "metadata": {
            "tags": []
          },
          "execution_count": 332
        },
        {
          "output_type": "display_data",
          "data": {
            "image/png": "[encoded data removed]",
            "text/plain": [
              "<Figure size 432x288 with 1 Axes>"
            ]
          },
          "metadata": {
            "tags": [],
            "needs_background": "light"
          }
        }
      ]
    },
    {
      "cell_type": "code",
      "metadata": {
        "id": "WB8PfGlF8tul"
      },
      "source": [
        "# Now, we can predict stock values after model is trained.\n",
        "# We keep the predicted values and target vlaues for graphics later.\n",
        "# You may run on p_train or p_test to check the preformance.\n",
        "predicted_value = []\n",
        "y_orig = []\n",
        "count =0;\n",
        "for x, y in p_train.take(20):\n",
        "  y_orig.append(y[0].numpy())\n",
        "  t_pred= model.predict(x)\n",
        "  predicted_value.append(t_pred[0])"
      ],
      "execution_count": null,
      "outputs": []
    },
    {
      "cell_type": "code",
      "metadata": {
        "id": "WZGHDfDuPHLO",
        "colab": {
          "base_uri": "https://localhost:8080/",
          "height": 283
        },
        "outputId": "3fac434c-6800-45e0-df9a-ef67c3870d6c"
      },
      "source": [
        "# Plot the predicted value and the target values together.\n",
        "y_pred = [predicted_value[i][0] for i in range(len(predicted_value))]\n",
        "result = pd.DataFrame({'predicted':y_pred, 'target':y_orig})\n",
        "result.plot()"
      ],
      "execution_count": null,
      "outputs": [
        {
          "output_type": "execute_result",
          "data": {
            "text/plain": [
              "<matplotlib.axes._subplots.AxesSubplot at 0x7f381d52b780>"
            ]
          },
          "metadata": {
            "tags": []
          },
          "execution_count": 338
        },
        {
          "output_type": "display_data",
          "data": {
            "image/png": "[encoded data removed]",
            "text/plain": [
              "<Figure size 432x288 with 1 Axes>"
            ]
          },
          "metadata": {
            "tags": [],
            "needs_background": "light"
          }
        }
      ]
    },
    {
      "cell_type": "markdown",
      "metadata": {
        "id": "74PyIF0IHW0N"
      },
      "source": [
        "# Thank you for watching. Please subscribe, thumb up, and share!"
      ]
    },
    {
      "cell_type": "markdown",
      "metadata": {
        "id": "xADzDYQwHlmv"
      },
      "source": [
        "# If you like to watch something else, please give a comment."
      ]
    }
  ]
}